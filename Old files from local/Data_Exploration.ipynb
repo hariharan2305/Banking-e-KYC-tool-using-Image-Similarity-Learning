{
 "cells": [
  {
   "cell_type": "markdown",
   "metadata": {},
   "source": [
    "### Loading Json file containing ID and Image path from Azure Blob Storage:"
   ]
  },
  {
   "cell_type": "code",
   "execution_count": 85,
   "metadata": {},
   "outputs": [],
   "source": [
    "import os, uuid\n",
    "import json\n",
    "import azure_blob_access\n",
    "from azure.storage.blob import BlobServiceClient, BlobClient, ContainerClient"
   ]
  },
  {
   "cell_type": "code",
   "execution_count": 86,
   "metadata": {},
   "outputs": [],
   "source": [
    "# Getting the connection string\n",
    "connect_str = azure_blob_access.AZURE_STORAGE_CONNECTION_STRING"
   ]
  },
  {
   "cell_type": "code",
   "execution_count": 87,
   "metadata": {},
   "outputs": [],
   "source": [
    "# Create the BlobServiceClient object which will be used to create a container client\n",
    "blob_service_client = BlobServiceClient.from_connection_string(connect_str)"
   ]
  },
  {
   "cell_type": "code",
   "execution_count": 88,
   "metadata": {},
   "outputs": [],
   "source": [
    "# Get the container object\n",
    "container_name = \"face-recognition\"\n",
    "container_client = blob_service_client.get_container_client(container= container_name) "
   ]
  },
  {
   "cell_type": "code",
   "execution_count": 89,
   "metadata": {},
   "outputs": [
    {
     "name": "stdout",
     "output_type": "stream",
     "text": [
      "\n",
      "Listing blobs...\n",
      "\tface_recognition.json\n"
     ]
    }
   ],
   "source": [
    "# Explore the contents of the container\n",
    "print(\"\\nListing blobs...\")\n",
    "\n",
    "# List the blobs in the container\n",
    "blob_list = container_client.list_blobs()\n",
    "for blob in blob_list:\n",
    "    print(\"\\t\" + blob.name)"
   ]
  },
  {
   "cell_type": "code",
   "execution_count": 90,
   "metadata": {},
   "outputs": [],
   "source": [
    "fileName = \"face_recognition.json\"\n",
    "blob_client = container_client.get_blob_client(fileName)\n",
    "streamdownloader = blob_client.download_blob()"
   ]
  },
  {
   "cell_type": "code",
   "execution_count": 97,
   "metadata": {},
   "outputs": [
    {
     "data": {
      "text/plain": [
       "'{\"ID\": {\"0\": 1, \"1\": 2, \"2\": 3, \"3\": 4, \"4\": 5, \"5\": 6, \"6\": 7, \"7\": 8, \"8\": 9, \"9\": 10, \"10\": 11, \"11\": 12, \"12\": 13, \"13\": 14, \"14\": 15, \"15\": 16, \"16\": 17, \"17\": 18, \"18\": 19, \"19\": 20, \"20\": 21, \"21\": 22, \"22\": 23, \"23\": 24, \"24\": 25, \"25\": 26, \"26\": 27, \"27\": 28, \"28\": 29, \"29\": 30, \"30\": 31, \"31\": 32, \"32\": 33, \"33\": 34, \"34\": 35, \"35\": 36, \"36\": 37, \"37\": 38, \"38\": 39, \"39\": 40, \"40\": 41, \"41\": 42, \"42\": 43, \"43\": 44, \"44\": 45, \"45\": 46, \"46\": 47, \"47\": 48, \"48\": 49, \"49\": 50}, \"Folder_link\": {\"0\": \"s3://face-recognition579/Data/1/\", \"1\": \"s3://face-recognition579/Data/2/\", \"2\": \"s3://face-recognition579/Data/3/\", \"3\": \"s3://face-recognition579/Data/4/\", \"4\": \"s3://face-recognition579/Data/5/\", \"5\": \"s3://face-recognition579/Data/6/\", \"6\": \"s3://face-recognition579/Data/7/\", \"7\": \"s3://face-recognition579/Data/8/\", \"8\": \"s3://face-recognition579/Data/9/\", \"9\": \"s3://face-recognition579/Data/10/\", \"10\": \"s3://face-recognition579/Data/11/\", \"11\": \"s3://face-recognition579/Data/12/\", \"12\": \"s3://face-recognition579/Data/13/\", \"13\": \"s3://face-recognition579/Data/14/\", \"14\": \"s3://face-recognition579/Data/15/\", \"15\": \"s3://face-recognition579/Data/16/\", \"16\": \"s3://face-recognition579/Data/17/\", \"17\": \"s3://face-recognition579/Data/18/\", \"18\": \"s3://face-recognition579/Data/19/\", \"19\": \"s3://face-recognition579/Data/20/\", \"20\": \"s3://face-recognition579/Data/21/\", \"21\": \"s3://face-recognition579/Data/22/\", \"22\": \"s3://face-recognition579/Data/23/\", \"23\": \"s3://face-recognition579/Data/24/\", \"24\": \"s3://face-recognition579/Data/25/\", \"25\": \"s3://face-recognition579/Data/26/\", \"26\": \"s3://face-recognition579/Data/27/\", \"27\": \"s3://face-recognition579/Data/28/\", \"28\": \"s3://face-recognition579/Data/29/\", \"29\": \"s3://face-recognition579/Data/30/\", \"30\": \"s3://face-recognition579/Data/31/\", \"31\": \"s3://face-recognition579/Data/32/\", \"32\": \"s3://face-recognition579/Data/33/\", \"33\": \"s3://face-recognition579/Data/34/\", \"34\": \"s3://face-recognition579/Data/35/\", \"35\": \"s3://face-recognition579/Data/36/\", \"36\": \"s3://face-recognition579/Data/37/\", \"37\": \"s3://face-recognition579/Data/38/\", \"38\": \"s3://face-recognition579/Data/39/\", \"39\": \"s3://face-recognition579/Data/40/\", \"40\": \"s3://face-recognition579/Data/41/\", \"41\": \"s3://face-recognition579/Data/42/\", \"42\": \"s3://face-recognition579/Data/43/\", \"43\": \"s3://face-recognition579/Data/44/\", \"44\": \"s3://face-recognition579/Data/45/\", \"45\": \"s3://face-recognition579/Data/46/\", \"46\": \"s3://face-recognition579/Data/47/\", \"47\": \"s3://face-recognition579/Data/48/\", \"48\": \"s3://face-recognition579/Data/49/\", \"49\": \"s3://face-recognition579/Data/50/\"}}'"
      ]
     },
     "execution_count": 97,
     "metadata": {},
     "output_type": "execute_result"
    }
   ],
   "source": [
    "json.dumps(json.loads(streamdownloader.readall()))"
   ]
  },
  {
   "cell_type": "code",
   "execution_count": 23,
   "metadata": {},
   "outputs": [],
   "source": [
    "# Get the blob client and download the json file\n",
    "fileName = \"face_recognition.json\"\n",
    "blob_client = container_client.get_blob_client(fileName)\n",
    "streamdownloader = blob_client.download_blob()\n",
    "\n",
    " \n",
    "json_obj = json.loads(streamdownloader.readall())\n",
    "# print(json_obj)\n",
    "\n",
    "json_obj = json.dumps(json_obj)\n",
    "\n",
    "jsonfile = \"face_recognition.json\"\n",
    "with open(jsonfile, 'w') as outfile:\n",
    "    outfile.write(json_obj)"
   ]
  },
  {
   "cell_type": "code",
   "execution_count": 25,
   "metadata": {},
   "outputs": [
    {
     "name": "stdout",
     "output_type": "stream",
     "text": [
      "{'ID': {'0': 1, '1': 2, '2': 3, '3': 4, '4': 5, '5': 6, '6': 7, '7': 8, '8': 9, '9': 10, '10': 11, '11': 12, '12': 13, '13': 14, '14': 15, '15': 16, '16': 17, '17': 18, '18': 19, '19': 20, '20': 21, '21': 22, '22': 23, '23': 24, '24': 25, '25': 26, '26': 27, '27': 28, '28': 29, '29': 30, '30': 31, '31': 32, '32': 33, '33': 34, '34': 35, '35': 36, '36': 37, '37': 38, '38': 39, '39': 40, '40': 41, '41': 42, '42': 43, '43': 44, '44': 45, '45': 46, '46': 47, '47': 48, '48': 49, '49': 50}, 'Folder_link': {'0': 's3://face-recognition579/Data/1/', '1': 's3://face-recognition579/Data/2/', '2': 's3://face-recognition579/Data/3/', '3': 's3://face-recognition579/Data/4/', '4': 's3://face-recognition579/Data/5/', '5': 's3://face-recognition579/Data/6/', '6': 's3://face-recognition579/Data/7/', '7': 's3://face-recognition579/Data/8/', '8': 's3://face-recognition579/Data/9/', '9': 's3://face-recognition579/Data/10/', '10': 's3://face-recognition579/Data/11/', '11': 's3://face-recognition579/Data/12/', '12': 's3://face-recognition579/Data/13/', '13': 's3://face-recognition579/Data/14/', '14': 's3://face-recognition579/Data/15/', '15': 's3://face-recognition579/Data/16/', '16': 's3://face-recognition579/Data/17/', '17': 's3://face-recognition579/Data/18/', '18': 's3://face-recognition579/Data/19/', '19': 's3://face-recognition579/Data/20/', '20': 's3://face-recognition579/Data/21/', '21': 's3://face-recognition579/Data/22/', '22': 's3://face-recognition579/Data/23/', '23': 's3://face-recognition579/Data/24/', '24': 's3://face-recognition579/Data/25/', '25': 's3://face-recognition579/Data/26/', '26': 's3://face-recognition579/Data/27/', '27': 's3://face-recognition579/Data/28/', '28': 's3://face-recognition579/Data/29/', '29': 's3://face-recognition579/Data/30/', '30': 's3://face-recognition579/Data/31/', '31': 's3://face-recognition579/Data/32/', '32': 's3://face-recognition579/Data/33/', '33': 's3://face-recognition579/Data/34/', '34': 's3://face-recognition579/Data/35/', '35': 's3://face-recognition579/Data/36/', '36': 's3://face-recognition579/Data/37/', '37': 's3://face-recognition579/Data/38/', '38': 's3://face-recognition579/Data/39/', '39': 's3://face-recognition579/Data/40/', '40': 's3://face-recognition579/Data/41/', '41': 's3://face-recognition579/Data/42/', '42': 's3://face-recognition579/Data/43/', '43': 's3://face-recognition579/Data/44/', '44': 's3://face-recognition579/Data/45/', '45': 's3://face-recognition579/Data/46/', '46': 's3://face-recognition579/Data/47/', '47': 's3://face-recognition579/Data/48/', '48': 's3://face-recognition579/Data/49/', '49': 's3://face-recognition579/Data/50/'}}\n"
     ]
    }
   ],
   "source": [
    "# Loading the json file \n",
    "with open(\"face_recognition.json\", 'r') as f:\n",
    "    face_recog = json.load(f)\n",
    "\n",
    "print(face_recog)"
   ]
  },
  {
   "cell_type": "code",
   "execution_count": 26,
   "metadata": {},
   "outputs": [
    {
     "data": {
      "text/plain": [
       "dict_keys(['ID', 'Folder_link'])"
      ]
     },
     "execution_count": 26,
     "metadata": {},
     "output_type": "execute_result"
    }
   ],
   "source": [
    "# Checking the keys in the dictionary\n",
    "face_recog.keys()"
   ]
  },
  {
   "cell_type": "markdown",
   "metadata": {},
   "source": [
    "## Creating connection to AWS S3 to retrieve the image paths:"
   ]
  },
  {
   "cell_type": "code",
   "execution_count": 2,
   "metadata": {},
   "outputs": [],
   "source": [
    "import boto3\n",
    "import aws_access\n",
    "s3_client = boto3.client('s3', aws_access_key_id = aws_access.aws_access_key_id, \n",
    "                                aws_secret_access_key = aws_access.aws_secret_access_key)"
   ]
  },
  {
   "cell_type": "code",
   "execution_count": 49,
   "metadata": {},
   "outputs": [],
   "source": [
    "# List objects in the bucket (s3://hariharan-project-data/Banking-and-Finance/Face-Recognition-KYC-Tool/Data/)\n",
    "bucket = \"hariharan-project-data\"\n",
    "prefix = \"Banking-and-Finance/Face-Recognition-KYC-Tool/Data\"\n",
    "\n",
    "fileList = []\n",
    "for obj in s3_client.list_objects(Bucket=bucket,Prefix=prefix)['Contents']:\n",
    "    files = obj['Key']\n",
    "    fileList.append(\"s3://hariharan-project-data/\"+files)\n"
   ]
  },
  {
   "cell_type": "code",
   "execution_count": 50,
   "metadata": {},
   "outputs": [
    {
     "name": "stdout",
     "output_type": "stream",
     "text": [
      "Number of Images:  206\n"
     ]
    },
    {
     "data": {
      "text/plain": [
       "['s3://hariharan-project-data/Banking-and-Finance/Face-Recognition-KYC-Tool/Data/1/1_1.jpg',\n",
       " 's3://hariharan-project-data/Banking-and-Finance/Face-Recognition-KYC-Tool/Data/1/1_2.jpg',\n",
       " 's3://hariharan-project-data/Banking-and-Finance/Face-Recognition-KYC-Tool/Data/10/10_1.jpg',\n",
       " 's3://hariharan-project-data/Banking-and-Finance/Face-Recognition-KYC-Tool/Data/10/10_2.jpg',\n",
       " 's3://hariharan-project-data/Banking-and-Finance/Face-Recognition-KYC-Tool/Data/10/10_3.jpg',\n",
       " 's3://hariharan-project-data/Banking-and-Finance/Face-Recognition-KYC-Tool/Data/10/10_4.jpg',\n",
       " 's3://hariharan-project-data/Banking-and-Finance/Face-Recognition-KYC-Tool/Data/11/11_1.jpg',\n",
       " 's3://hariharan-project-data/Banking-and-Finance/Face-Recognition-KYC-Tool/Data/11/11_2.jpg',\n",
       " 's3://hariharan-project-data/Banking-and-Finance/Face-Recognition-KYC-Tool/Data/12/12_1.jpg',\n",
       " 's3://hariharan-project-data/Banking-and-Finance/Face-Recognition-KYC-Tool/Data/12/12_2.jpg']"
      ]
     },
     "execution_count": 50,
     "metadata": {},
     "output_type": "execute_result"
    }
   ],
   "source": [
    "print(\"Number of Images: \",len(fileList))\n",
    "fileList[:10]"
   ]
  },
  {
   "cell_type": "code",
   "execution_count": 17,
   "metadata": {},
   "outputs": [
    {
     "data": {
      "text/plain": [
       "[1,\n",
       " 10,\n",
       " 11,\n",
       " 12,\n",
       " 13,\n",
       " 14,\n",
       " 15,\n",
       " 16,\n",
       " 17,\n",
       " 18,\n",
       " 19,\n",
       " 2,\n",
       " 20,\n",
       " 21,\n",
       " 22,\n",
       " 23,\n",
       " 24,\n",
       " 25,\n",
       " 26,\n",
       " 27,\n",
       " 28,\n",
       " 29,\n",
       " 3,\n",
       " 30,\n",
       " 31,\n",
       " 32,\n",
       " 33,\n",
       " 34,\n",
       " 35,\n",
       " 36,\n",
       " 37,\n",
       " 38,\n",
       " 39,\n",
       " 4,\n",
       " 40,\n",
       " 41,\n",
       " 42,\n",
       " 43,\n",
       " 44,\n",
       " 45,\n",
       " 46,\n",
       " 47,\n",
       " 48,\n",
       " 49,\n",
       " 5,\n",
       " 50,\n",
       " 51,\n",
       " 52,\n",
       " 6,\n",
       " 7,\n",
       " 8,\n",
       " 9]"
      ]
     },
     "execution_count": 17,
     "metadata": {},
     "output_type": "execute_result"
    }
   ],
   "source": [
    "import pandas as pd \n",
    "\n",
    "# List objects in the bucket (s3://hariharan-project-data/Banking-and-Finance/Face-Recognition-KYC-Tool/Data/)\n",
    "s3_client = boto3.client('s3', aws_access_key_id = aws_access.aws_access_key_id, \n",
    "                            aws_secret_access_key = aws_access.aws_secret_access_key)\n",
    "                            \n",
    "bucket = \"hariharan-project-data\"\n",
    "prefix = \"Banking-and-Finance/Face-Recognition-KYC-Tool/Data\"\n",
    "\n",
    "fileList = []\n",
    "for obj in s3_client.list_objects(Bucket=bucket,Prefix=prefix)['Contents']:\n",
    "    files = obj['Key']\n",
    "    if ('.jpg' in files) or ('.jpeg' in files) or ('.png' in files):\n",
    "        fileList.append(\"s3://hariharan-project-data/\"+files)\n",
    "\n",
    "# print(\"Number of Images: \",len(fileList))\n",
    "\n",
    "### 2. Creating the fileList as a pandas dataframe and creating a target/label column\n",
    "data = pd.DataFrame(fileList, columns=['s3_img_path'])\n",
    "data['user_id'] = data['s3_img_path'].apply(lambda x: x.split('/')[6]).astype(int)\n",
    "uid_in_repo = data.user_id.unique().tolist()\n",
    "uid_in_repo"
   ]
  },
  {
   "cell_type": "markdown",
   "metadata": {},
   "source": [
    "## Creating a DataFrame with image paths and Ids:"
   ]
  },
  {
   "cell_type": "code",
   "execution_count": 59,
   "metadata": {},
   "outputs": [
    {
     "name": "stdout",
     "output_type": "stream",
     "text": [
      "(206, 1)\n"
     ]
    },
    {
     "data": {
      "text/html": [
       "<div>\n",
       "<style scoped>\n",
       "    .dataframe tbody tr th:only-of-type {\n",
       "        vertical-align: middle;\n",
       "    }\n",
       "\n",
       "    .dataframe tbody tr th {\n",
       "        vertical-align: top;\n",
       "    }\n",
       "\n",
       "    .dataframe thead th {\n",
       "        text-align: right;\n",
       "    }\n",
       "</style>\n",
       "<table border=\"1\" class=\"dataframe\">\n",
       "  <thead>\n",
       "    <tr style=\"text-align: right;\">\n",
       "      <th></th>\n",
       "      <th>s3_img_path</th>\n",
       "    </tr>\n",
       "  </thead>\n",
       "  <tbody>\n",
       "    <tr>\n",
       "      <th>0</th>\n",
       "      <td>s3://hariharan-project-data/Banking-and-Finance/Face-Recognition-KYC-Tool/Data/1/1_1.jpg</td>\n",
       "    </tr>\n",
       "    <tr>\n",
       "      <th>1</th>\n",
       "      <td>s3://hariharan-project-data/Banking-and-Finance/Face-Recognition-KYC-Tool/Data/1/1_2.jpg</td>\n",
       "    </tr>\n",
       "    <tr>\n",
       "      <th>2</th>\n",
       "      <td>s3://hariharan-project-data/Banking-and-Finance/Face-Recognition-KYC-Tool/Data/10/10_1.jpg</td>\n",
       "    </tr>\n",
       "    <tr>\n",
       "      <th>3</th>\n",
       "      <td>s3://hariharan-project-data/Banking-and-Finance/Face-Recognition-KYC-Tool/Data/10/10_2.jpg</td>\n",
       "    </tr>\n",
       "    <tr>\n",
       "      <th>4</th>\n",
       "      <td>s3://hariharan-project-data/Banking-and-Finance/Face-Recognition-KYC-Tool/Data/10/10_3.jpg</td>\n",
       "    </tr>\n",
       "  </tbody>\n",
       "</table>\n",
       "</div>"
      ],
      "text/plain": [
       "                                                                                  s3_img_path\n",
       "0    s3://hariharan-project-data/Banking-and-Finance/Face-Recognition-KYC-Tool/Data/1/1_1.jpg\n",
       "1    s3://hariharan-project-data/Banking-and-Finance/Face-Recognition-KYC-Tool/Data/1/1_2.jpg\n",
       "2  s3://hariharan-project-data/Banking-and-Finance/Face-Recognition-KYC-Tool/Data/10/10_1.jpg\n",
       "3  s3://hariharan-project-data/Banking-and-Finance/Face-Recognition-KYC-Tool/Data/10/10_2.jpg\n",
       "4  s3://hariharan-project-data/Banking-and-Finance/Face-Recognition-KYC-Tool/Data/10/10_3.jpg"
      ]
     },
     "execution_count": 59,
     "metadata": {},
     "output_type": "execute_result"
    }
   ],
   "source": [
    "import pandas as pd \n",
    "pd.set_option('max_colwidth',None)\n",
    "\n",
    "data = pd.DataFrame(fileList, columns=['s3_img_path'])\n",
    "print(data.shape)\n",
    "data.head()"
   ]
  },
  {
   "cell_type": "code",
   "execution_count": 60,
   "metadata": {},
   "outputs": [],
   "source": [
    "data['s3_img_path'][6].split('/')[6]\n",
    "data['user_id'] = data['s3_img_path'].apply(lambda x: x.split('/')[6])"
   ]
  },
  {
   "cell_type": "code",
   "execution_count": 61,
   "metadata": {},
   "outputs": [
    {
     "data": {
      "text/html": [
       "<div>\n",
       "<style scoped>\n",
       "    .dataframe tbody tr th:only-of-type {\n",
       "        vertical-align: middle;\n",
       "    }\n",
       "\n",
       "    .dataframe tbody tr th {\n",
       "        vertical-align: top;\n",
       "    }\n",
       "\n",
       "    .dataframe thead th {\n",
       "        text-align: right;\n",
       "    }\n",
       "</style>\n",
       "<table border=\"1\" class=\"dataframe\">\n",
       "  <thead>\n",
       "    <tr style=\"text-align: right;\">\n",
       "      <th></th>\n",
       "      <th>s3_img_path</th>\n",
       "      <th>user_id</th>\n",
       "    </tr>\n",
       "  </thead>\n",
       "  <tbody>\n",
       "    <tr>\n",
       "      <th>0</th>\n",
       "      <td>s3://hariharan-project-data/Banking-and-Finance/Face-Recognition-KYC-Tool/Data/1/1_1.jpg</td>\n",
       "      <td>1</td>\n",
       "    </tr>\n",
       "    <tr>\n",
       "      <th>1</th>\n",
       "      <td>s3://hariharan-project-data/Banking-and-Finance/Face-Recognition-KYC-Tool/Data/1/1_2.jpg</td>\n",
       "      <td>1</td>\n",
       "    </tr>\n",
       "    <tr>\n",
       "      <th>2</th>\n",
       "      <td>s3://hariharan-project-data/Banking-and-Finance/Face-Recognition-KYC-Tool/Data/10/10_1.jpg</td>\n",
       "      <td>10</td>\n",
       "    </tr>\n",
       "    <tr>\n",
       "      <th>3</th>\n",
       "      <td>s3://hariharan-project-data/Banking-and-Finance/Face-Recognition-KYC-Tool/Data/10/10_2.jpg</td>\n",
       "      <td>10</td>\n",
       "    </tr>\n",
       "    <tr>\n",
       "      <th>4</th>\n",
       "      <td>s3://hariharan-project-data/Banking-and-Finance/Face-Recognition-KYC-Tool/Data/10/10_3.jpg</td>\n",
       "      <td>10</td>\n",
       "    </tr>\n",
       "  </tbody>\n",
       "</table>\n",
       "</div>"
      ],
      "text/plain": [
       "                                                                                  s3_img_path  \\\n",
       "0    s3://hariharan-project-data/Banking-and-Finance/Face-Recognition-KYC-Tool/Data/1/1_1.jpg   \n",
       "1    s3://hariharan-project-data/Banking-and-Finance/Face-Recognition-KYC-Tool/Data/1/1_2.jpg   \n",
       "2  s3://hariharan-project-data/Banking-and-Finance/Face-Recognition-KYC-Tool/Data/10/10_1.jpg   \n",
       "3  s3://hariharan-project-data/Banking-and-Finance/Face-Recognition-KYC-Tool/Data/10/10_2.jpg   \n",
       "4  s3://hariharan-project-data/Banking-and-Finance/Face-Recognition-KYC-Tool/Data/10/10_3.jpg   \n",
       "\n",
       "  user_id  \n",
       "0       1  \n",
       "1       1  \n",
       "2      10  \n",
       "3      10  \n",
       "4      10  "
      ]
     },
     "execution_count": 61,
     "metadata": {},
     "output_type": "execute_result"
    }
   ],
   "source": [
    "data.head()"
   ]
  },
  {
   "cell_type": "code",
   "execution_count": 67,
   "metadata": {},
   "outputs": [
    {
     "name": "stdout",
     "output_type": "stream",
     "text": [
      "Total Unique Users in the data:  50\n",
      "Median number of images per user:  3.0\n"
     ]
    }
   ],
   "source": [
    "# EDA\n",
    "print(\"Total Unique Users in the data: \", data.user_id.nunique())\n",
    "\n",
    "median_img_cnt = data.groupby('user_id').count()['s3_img_path'].median()\n",
    "print(\"Median number of images per user: \", median_img_cnt)"
   ]
  },
  {
   "cell_type": "code",
   "execution_count": 79,
   "metadata": {},
   "outputs": [],
   "source": [
    "# saving the dataframe \n",
    "# data.to_csv(\"complete_image_data_with_labels.csv\",index=False)"
   ]
  },
  {
   "cell_type": "code",
   "execution_count": 15,
   "metadata": {},
   "outputs": [],
   "source": [
    "import matplotlib.pyplot as plt \n",
    "from PIL import Image \n",
    "import io\n",
    "\n",
    "pil_img = Image.open('examples/52_1.jpeg')\n",
    "# plt.imshow(img)\n",
    "\n",
    "# Save the image to an in-memory file\n",
    "in_mem_file = io.BytesIO()\n",
    "pil_img.save(in_mem_file, format=pil_img.format)\n",
    "in_mem_file.seek(0)\n",
    "\n",
    "bucket = \"hariharan-project-data\"\n",
    "prefix = \"Banking-and-Finance/Face-Recognition-KYC-Tool/Data/53/53_1.jpeg\"\n",
    "\n",
    "s3_client.upload_fileobj(in_mem_file,bucket,prefix,ExtraArgs={ \"ContentType\": \"image/jpeg\"})"
   ]
  },
  {
   "cell_type": "markdown",
   "metadata": {},
   "source": [
    "## Setting up the Deep Learning Env:"
   ]
  },
  {
   "cell_type": "markdown",
   "metadata": {},
   "source": [
    "!pip install tensorflow\n",
    "\n",
    "!pip install opencv-python\n",
    "\n",
    "!pip install imutils\n",
    "\n",
    "!pip install Pillow\n",
    "\n",
    "!pip install scikit-learn\n",
    "\n",
    "!pip install matplotlib"
   ]
  },
  {
   "cell_type": "code",
   "execution_count": 74,
   "metadata": {},
   "outputs": [
    {
     "data": {
      "text/plain": [
       "'2.10.0'"
      ]
     },
     "execution_count": 74,
     "metadata": {},
     "output_type": "execute_result"
    }
   ],
   "source": [
    "import tensorflow as tf\n",
    "tf.__version__"
   ]
  },
  {
   "cell_type": "code",
   "execution_count": 75,
   "metadata": {},
   "outputs": [
    {
     "data": {
      "text/plain": [
       "'2.10.0'"
      ]
     },
     "execution_count": 75,
     "metadata": {},
     "output_type": "execute_result"
    }
   ],
   "source": [
    "from tensorflow import keras\n",
    "keras.__version__ "
   ]
  },
  {
   "cell_type": "code",
   "execution_count": 76,
   "metadata": {},
   "outputs": [
    {
     "data": {
      "text/plain": [
       "'4.6.0'"
      ]
     },
     "execution_count": 76,
     "metadata": {},
     "output_type": "execute_result"
    }
   ],
   "source": [
    "import cv2 \n",
    "cv2.__version__"
   ]
  },
  {
   "cell_type": "code",
   "execution_count": 80,
   "metadata": {},
   "outputs": [
    {
     "data": {
      "text/plain": [
       "38"
      ]
     },
     "execution_count": 80,
     "metadata": {},
     "output_type": "execute_result"
    }
   ],
   "source": [
    "events = [900002901,900007300,910010500,910010003,970013000,970017000,970023000 ,910010011,910010700,45100100,45104000,45105300,900002901,900007300,910010500,910010003,970013000,970017000,970023000 ,910010011,910010700,900004700, 900004900,910010500, 910010700, 910010600,900009600,900003500, 900005100,970007000, 970023000,42112238,42112240,42112242,42112014,42112015,42112016, 42112017]\n",
    "\n",
    "len(events)"
   ]
  },
  {
   "cell_type": "code",
   "execution_count": 83,
   "metadata": {},
   "outputs": [
    {
     "data": {
      "text/plain": [
       "26"
      ]
     },
     "execution_count": 83,
     "metadata": {},
     "output_type": "execute_result"
    }
   ],
   "source": [
    "import numpy as np\n",
    "\n",
    "len(np.unique(events))"
   ]
  },
  {
   "cell_type": "code",
   "execution_count": 84,
   "metadata": {},
   "outputs": [
    {
     "data": {
      "text/plain": [
       "array([ 42112014,  42112015,  42112016,  42112017,  42112238,  42112240,\n",
       "        42112242,  45100100,  45104000,  45105300, 900002901, 900003500,\n",
       "       900004700, 900004900, 900005100, 900007300, 900009600, 910010003,\n",
       "       910010011, 910010500, 910010600, 910010700, 970007000, 970013000,\n",
       "       970017000, 970023000])"
      ]
     },
     "execution_count": 84,
     "metadata": {},
     "output_type": "execute_result"
    }
   ],
   "source": [
    "np.unique(events)"
   ]
  },
  {
   "cell_type": "code",
   "execution_count": null,
   "metadata": {},
   "outputs": [],
   "source": []
  }
 ],
 "metadata": {
  "kernelspec": {
   "display_name": "Python 3.10.4 ('ImageSimilarityLearning')",
   "language": "python",
   "name": "python3"
  },
  "language_info": {
   "codemirror_mode": {
    "name": "ipython",
    "version": 3
   },
   "file_extension": ".py",
   "mimetype": "text/x-python",
   "name": "python",
   "nbconvert_exporter": "python",
   "pygments_lexer": "ipython3",
   "version": "3.10.4"
  },
  "orig_nbformat": 4,
  "vscode": {
   "interpreter": {
    "hash": "d4916c01b31ccb7e22afa34f2ba1c80670fe53990e030cb83eba30e59e5fb995"
   }
  }
 },
 "nbformat": 4,
 "nbformat_minor": 2
}
